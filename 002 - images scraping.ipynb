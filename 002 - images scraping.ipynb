{
 "cells": [
  {
   "cell_type": "markdown",
   "metadata": {},
   "source": [
    "## Scraping photos from google"
   ]
  },
  {
   "cell_type": "code",
   "execution_count": 3,
   "metadata": {},
   "outputs": [],
   "source": [
    "import os\n",
    "\n",
    "os.chdir(r\"C:\\Users\\ahmed eltabakh\\Downloads\\animals\")"
   ]
  },
  {
   "cell_type": "code",
   "execution_count": 1,
   "metadata": {},
   "outputs": [],
   "source": [
    "from selenium import webdriver\n",
    "import time as t\n",
    "#from selenium.webdriver.common.keys import keys\n",
    "#from selenium.webdriver.common.by import By\n",
    "import urllib\n",
    "#import cv2\n",
    "\n",
    "try:\n",
    "    os.mkdir('dataset_download')\n",
    "except:\n",
    "    pass\n",
    "\n",
    "name = 'lion'\n",
    "\n",
    "chrome_options = webdriver.ChromeOptions()\n",
    "\n",
    "chrome_options.add_experimental_option('excludeSwitches', ['enable-automation'])\n",
    "\n",
    "driver = webdriver.Chrome(executable_path='C:\\chromedriver_win32\\chromedriver.exe', options=chrome_options)\n",
    "\n",
    "strr = 'https://www.google.com/search?q=lion&lr=lang_ar&hl=ar&tbs=lr:lang_1ar&sxsrf=AOaemvLwEkey1-RIqWwE9NEMyufp0og2Xw:1631460082268&source=lnms&tbm=isch&sa=X&ved=2ahUKEwix_au13vnyAhVshf0HHXnyCUUQ_AUoAXoECAEQAw&biw=1366&bih=625'\n",
    "driver.get(strr)\n",
    "t.sleep(3)\n",
    "# //*[@id=\"islrg\"]/div[1]/div[1]/a[1]/div[1]/img\n",
    "pics = driver.find_element_by_xpath('//*[@id=\"root\"]/div/div/div[3]/div[2]/div[1]/a/@href')\n",
    "\n",
    "print(\"========================================\")\n",
    "print(pics)\n",
    "print(\"=========================================\")\n",
    "\n",
    "links = []\n",
    "x=1\n",
    "last_height = 0\n",
    "\n",
    "def download_image(url, filename):\n",
    "    resource = urllib.request.urlopen(url)\n",
    "    output = open(filename, 'wb')\n",
    "    output.write(resource.read())\n",
    "    output.close()\n",
    "    \n",
    "while True:\n",
    "    driver.execute_script('window.scrollTo(0, document.body.scrollHeight);')\n",
    "    t.sleep(4)\n",
    "    pics_ = pics.find_elements_by_xpath('./*')\n",
    "    \n",
    "    for pic in pics_:\n",
    "        try:\n",
    "            img_link = pic.find_element_by_xpath('a[1]/div[1]/img').get_attribute('src')\n",
    "            \n",
    "            if img_link not in links:\n",
    "                links.append(img_link)\n",
    "                try:\n",
    "                    os.mkdir('dataset_download//'+name)\n",
    "                except:\n",
    "                    pass\n",
    "                file_name = 'dataset_download//'+name+'//'+str(x)+'.jpg'\n",
    "                download_image(img_link,file_name)\n",
    "                \n",
    "                x+=1\n",
    "        except:\n",
    "            print('-', end='')\n",
    "    new_height = driver.execute_script('return document.body.scrollHeight')\n",
    "    print(new_height)\n",
    "    if new_height == last_height:\n",
    "        break\n",
    "    last_height = new_height\n",
    "    \n",
    "driver.close()"
   ]
  },
  {
   "cell_type": "code",
   "execution_count": null,
   "metadata": {},
   "outputs": [],
   "source": []
  },
  {
   "cell_type": "code",
   "execution_count": null,
   "metadata": {},
   "outputs": [],
   "source": []
  }
 ],
 "metadata": {
  "kernelspec": {
   "display_name": "Python 3",
   "language": "python",
   "name": "python3"
  },
  "language_info": {
   "codemirror_mode": {
    "name": "ipython",
    "version": 3
   },
   "file_extension": ".py",
   "mimetype": "text/x-python",
   "name": "python",
   "nbconvert_exporter": "python",
   "pygments_lexer": "ipython3",
   "version": "3.8.5"
  }
 },
 "nbformat": 4,
 "nbformat_minor": 4
}
