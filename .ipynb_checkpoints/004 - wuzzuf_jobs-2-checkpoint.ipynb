{
 "cells": [
  {
   "cell_type": "markdown",
   "metadata": {},
   "source": [
    "### Scraping wuzzuf for top skills in a specific job profile"
   ]
  },
  {
   "cell_type": "code",
   "execution_count": 50,
   "metadata": {},
   "outputs": [],
   "source": [
    "import pandas as pd\n",
    "from selenium import webdriver\n",
    "from selenium.webdriver.chrome.service import Service\n",
    "from selenium.webdriver.chrome.options import Options\n",
    "from selenium.webdriver.common.by import By\n",
    "import time\n",
    "import csv\n",
    "import random\n",
    "import math"
   ]
  },
  {
   "cell_type": "code",
   "execution_count": 51,
   "metadata": {},
   "outputs": [],
   "source": [
    "#chrome deiver path\n",
    "chromepath = \"C:\\chromedriver_win32\\chromedriver.exe\"\n",
    "\n",
    "s = Service(chromepath)\n",
    "\n",
    "driver = webdriver.Chrome(service=s)"
   ]
  },
  {
   "cell_type": "code",
   "execution_count": 52,
   "metadata": {},
   "outputs": [
    {
     "name": "stderr",
     "output_type": "stream",
     "text": [
      "<ipython-input-52-be5f0f218ed0>:3: DeprecationWarning: find_element_by_* commands are deprecated. Please use find_element() instead\n",
      "  driver.find_element_by_css_selector('input[class=\"search-bar-input\"]').send_keys(\"data scientist\")\n",
      "<ipython-input-52-be5f0f218ed0>:5: DeprecationWarning: find_element_by_* commands are deprecated. Please use find_element() instead\n",
      "  driver.find_element_by_css_selector('button[class=\"btn btn-primary search-btn\"]').click()\n",
      "<ipython-input-52-be5f0f218ed0>:7: DeprecationWarning: find_element_by_* commands are deprecated. Please use find_element() instead\n",
      "  num_jobs = int(driver.find_element_by_css_selector('span[class=\"css-xkh9ud\"]').find_element_by_tag_name('strong').text)\n",
      "C:\\Users\\ahmed eltabakh\\anaconda3\\lib\\site-packages\\selenium\\webdriver\\remote\\webelement.py:340: UserWarning: find_element_by_* commands are deprecated. Please use find_element() instead\n",
      "  warnings.warn(\"find_element_by_* commands are deprecated. Please use find_element() instead\")\n",
      "<ipython-input-52-be5f0f218ed0>:27: DeprecationWarning: find_elements_by_* commands are deprecated. Please use find_elements() instead\n",
      "  job_divs = driver.find_elements_by_css_selector('div[class=\"css-1gatmva e1v1l3u10\"]')\n",
      "C:\\Users\\ahmed eltabakh\\anaconda3\\lib\\site-packages\\selenium\\webdriver\\remote\\webelement.py:483: UserWarning: find_element_by_* commands are deprecated. Please use find_element() instead\n",
      "  warnings.warn(\"find_element_by_* commands are deprecated. Please use find_element() instead\")\n",
      "<ipython-input-52-be5f0f218ed0>:35: DeprecationWarning: find_element_by_* commands are deprecated. Please use find_element() instead\n",
      "  skills_div = driver.find_element_by_css_selector('div[class=\"css-s2o0yh\"]')\n",
      "C:\\Users\\ahmed eltabakh\\anaconda3\\lib\\site-packages\\selenium\\webdriver\\remote\\webelement.py:501: UserWarning: find_elements_by_* commands are deprecated. Please use find_elements() instead\n",
      "  warnings.warn(\"find_elements_by_* commands are deprecated. Please use find_elements() instead\")\n"
     ]
    }
   ],
   "source": [
    "driver.get(\"https://wuzzuf.net/jobs/egypt\")\n",
    "\n",
    "driver.find_element_by_css_selector('input[class=\"search-bar-input\"]').send_keys(\"data scientist\")\n",
    "\n",
    "driver.find_element_by_css_selector('button[class=\"btn btn-primary search-btn\"]').click()\n",
    "\n",
    "num_jobs = int(driver.find_element_by_css_selector('span[class=\"css-xkh9ud\"]').find_element_by_tag_name('strong').text)\n",
    "\n",
    "num_pages = math.ceil(num_jobs / 15)\n",
    "\n",
    "source_link = \"https://wuzzuf.net/search/jobs/?a=hpb&q=data%20scientist&start=\"\n",
    "\n",
    "pages_links = []\n",
    "\n",
    "for i in range(num_pages):\n",
    "    link = source_link + str(i)\n",
    "    pages_links.append(link)\n",
    "    \n",
    "job_profiles = []\n",
    "skills = []\n",
    "\n",
    "for page in pages_links:\n",
    "    driver.get(page)\n",
    "    time.sleep(2)\n",
    "    \n",
    "    job_links = []\n",
    "    job_divs = driver.find_elements_by_css_selector('div[class=\"css-1gatmva e1v1l3u10\"]')\n",
    "    for div in job_divs:\n",
    "        job_link = div.find_element_by_css_selector('a[class=\"css-o171kl\"]').get_attribute('href')\n",
    "        job_links.append(job_link)\n",
    "        \n",
    "    for job_link in job_links:\n",
    "        driver.get(job_link)\n",
    "        time.sleep(2)\n",
    "        skills_div = driver.find_element_by_css_selector('div[class=\"css-s2o0yh\"]')\n",
    "        for skill in skills_div.find_elements_by_css_selector('span[class=\"css-158icaa\"]'):\n",
    "            skills.append(skill.text)\n",
    "\n",
    "driver.close()"
   ]
  },
  {
   "cell_type": "code",
   "execution_count": 53,
   "metadata": {},
   "outputs": [
    {
     "data": {
      "text/plain": [
       "358"
      ]
     },
     "execution_count": 53,
     "metadata": {},
     "output_type": "execute_result"
    }
   ],
   "source": [
    "len(skills)"
   ]
  },
  {
   "cell_type": "code",
   "execution_count": 54,
   "metadata": {},
   "outputs": [],
   "source": [
    "#unique skills\n",
    "unique_skills = list(set(skills))"
   ]
  },
  {
   "cell_type": "code",
   "execution_count": 55,
   "metadata": {},
   "outputs": [
    {
     "data": {
      "text/plain": [
       "158"
      ]
     },
     "execution_count": 55,
     "metadata": {},
     "output_type": "execute_result"
    }
   ],
   "source": [
    "skill_counts = []\n",
    "for skill in unique_skills:\n",
    "    count = skills.count(skill)\n",
    "    skill_counts.append(count)\n",
    "len(skill_counts)"
   ]
  },
  {
   "cell_type": "code",
   "execution_count": 56,
   "metadata": {},
   "outputs": [
    {
     "data": {
      "text/html": [
       "<div>\n",
       "<style scoped>\n",
       "    .dataframe tbody tr th:only-of-type {\n",
       "        vertical-align: middle;\n",
       "    }\n",
       "\n",
       "    .dataframe tbody tr th {\n",
       "        vertical-align: top;\n",
       "    }\n",
       "\n",
       "    .dataframe thead th {\n",
       "        text-align: right;\n",
       "    }\n",
       "</style>\n",
       "<table border=\"1\" class=\"dataframe\">\n",
       "  <thead>\n",
       "    <tr style=\"text-align: right;\">\n",
       "      <th></th>\n",
       "      <th>skill</th>\n",
       "      <th>count</th>\n",
       "    </tr>\n",
       "  </thead>\n",
       "  <tbody>\n",
       "    <tr>\n",
       "      <th>0</th>\n",
       "      <td>Development</td>\n",
       "      <td>1</td>\n",
       "    </tr>\n",
       "    <tr>\n",
       "      <th>1</th>\n",
       "      <td>TensorFlow</td>\n",
       "      <td>2</td>\n",
       "    </tr>\n",
       "    <tr>\n",
       "      <th>2</th>\n",
       "      <td>Git</td>\n",
       "      <td>4</td>\n",
       "    </tr>\n",
       "    <tr>\n",
       "      <th>3</th>\n",
       "      <td>Science</td>\n",
       "      <td>2</td>\n",
       "    </tr>\n",
       "    <tr>\n",
       "      <th>4</th>\n",
       "      <td>TCP</td>\n",
       "      <td>2</td>\n",
       "    </tr>\n",
       "  </tbody>\n",
       "</table>\n",
       "</div>"
      ],
      "text/plain": [
       "         skill  count\n",
       "0  Development      1\n",
       "1   TensorFlow      2\n",
       "2          Git      4\n",
       "3      Science      2\n",
       "4          TCP      2"
      ]
     },
     "execution_count": 56,
     "metadata": {},
     "output_type": "execute_result"
    }
   ],
   "source": [
    "skills_dict = {'skill': unique_skills, 'count': skill_counts}\n",
    "skill_df = pd.DataFrame(skills_dict)\n",
    "skill_df.head()"
   ]
  },
  {
   "cell_type": "code",
   "execution_count": 57,
   "metadata": {},
   "outputs": [],
   "source": [
    "top_10_skills = skill_df.sort_values(by='count', ascending=False).iloc[0:20]"
   ]
  },
  {
   "cell_type": "code",
   "execution_count": 58,
   "metadata": {},
   "outputs": [
    {
     "data": {
      "image/png": "[encoded data removed]",
      "text/plain": [
       "<Figure size 720x504 with 1 Axes>"
      ]
     },
     "metadata": {},
     "output_type": "display_data"
    }
   ],
   "source": [
    "import seaborn as sns\n",
    "import matplotlib.pyplot as plt\n",
    "sns.set_theme(style=\"whitegrid\")\n",
    "\n",
    "# Initialize the matplotlib figure\n",
    "f, ax = plt.subplots(figsize=(10, 7))\n",
    "\n",
    "# Plot the total crashes\n",
    "sns.set_color_codes(\"pastel\")\n",
    "sns.barplot(x=\"count\", y=\"skill\", data=top_10_skills,\n",
    "            label=\"skill\", color=\"b\")\n",
    "\n",
    "#Add a legend and informative axis label\n",
    "#ax.legend(ncol=2, loc=\"lower right\", frameon=True)\n",
    "ax.set(xlim=(0, 25), ylabel=\"Skill\",\n",
    "       xlabel=\"Skill Count\", title=\"Top Skills For Data Scientist\")\n",
    "sns.despine(left=True, bottom=True)"
   ]
  },
  {
   "cell_type": "code",
   "execution_count": 60,
   "metadata": {},
   "outputs": [],
   "source": []
  },
  {
   "cell_type": "code",
   "execution_count": null,
   "metadata": {},
   "outputs": [],
   "source": []
  },
  {
   "cell_type": "code",
   "execution_count": null,
   "metadata": {},
   "outputs": [],
   "source": []
  },
  {
   "cell_type": "code",
   "execution_count": null,
   "metadata": {},
   "outputs": [],
   "source": []
  }
 ],
 "metadata": {
  "kernelspec": {
   "display_name": "Python 3",
   "language": "python",
   "name": "python3"
  },
  "language_info": {
   "codemirror_mode": {
    "name": "ipython",
    "version": 3
   },
   "file_extension": ".py",
   "mimetype": "text/x-python",
   "name": "python",
   "nbconvert_exporter": "python",
   "pygments_lexer": "ipython3",
   "version": "3.8.5"
  }
 },
 "nbformat": 4,
 "nbformat_minor": 4
}
