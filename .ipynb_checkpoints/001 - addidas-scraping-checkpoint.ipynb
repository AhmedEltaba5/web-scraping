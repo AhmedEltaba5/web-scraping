{
 "cells": [
  {
   "cell_type": "markdown",
   "metadata": {},
   "source": [
    "## 001 - scraping addidas "
   ]
  },
  {
   "cell_type": "code",
   "execution_count": 13,
   "metadata": {},
   "outputs": [],
   "source": [
    "import pandas as pd\n",
    "from selenium import webdriver\n",
    "from selenium.webdriver.chrome.service import Service\n",
    "from selenium.webdriver.chrome.options import Options\n",
    "from selenium.webdriver.common.by import By\n",
    "import time\n",
    "import csv\n",
    "import random\n",
    "import math"
   ]
  },
  {
   "cell_type": "code",
   "execution_count": 14,
   "metadata": {},
   "outputs": [],
   "source": [
    "#chrome deiver path\n",
    "chromepath = \"C:\\chromedriver_win32\\chromedriver.exe\"\n",
    "\n",
    "s = Service(chromepath)\n",
    "\n",
    "driver = webdriver.Chrome(service=s)"
   ]
  },
  {
   "cell_type": "code",
   "execution_count": 15,
   "metadata": {},
   "outputs": [],
   "source": [
    "driver.get(\"https://www.adidas.com/us\")"
   ]
  },
  {
   "cell_type": "code",
   "execution_count": 16,
   "metadata": {},
   "outputs": [
    {
     "name": "stderr",
     "output_type": "stream",
     "text": [
      "<ipython-input-16-64cb92b67ffc>:1: DeprecationWarning: find_elements_by_* commands are deprecated. Please use find_elements() instead\n",
      "  cols = driver.find_elements_by_css_selector('div[class=\"col-5 tridion-col\"]')\n"
     ]
    },
    {
     "data": {
      "text/plain": [
       "28"
      ]
     },
     "execution_count": 16,
     "metadata": {},
     "output_type": "execute_result"
    }
   ],
   "source": [
    "cols = driver.find_elements_by_css_selector('div[class=\"col-5 tridion-col\"]')\n",
    "len(cols)"
   ]
  },
  {
   "cell_type": "code",
   "execution_count": 17,
   "metadata": {},
   "outputs": [],
   "source": [
    "sublinks = []\n",
    "for col in cols:\n",
    "    lis = col.find_elements_by_tag_name('li')\n",
    "    for li in lis:\n",
    "        for li in li.find_elements_by_tag_name('a'):\n",
    "            sublinks.append(li.get_attribute(\"href\"))"
   ]
  },
  {
   "cell_type": "code",
   "execution_count": 18,
   "metadata": {},
   "outputs": [
    {
     "data": {
      "text/plain": [
       "305"
      ]
     },
     "execution_count": 18,
     "metadata": {},
     "output_type": "execute_result"
    }
   ],
   "source": [
    "len(sublinks)"
   ]
  },
  {
   "cell_type": "code",
   "execution_count": 19,
   "metadata": {},
   "outputs": [],
   "source": [
    "driver.get(sublinks[0])"
   ]
  },
  {
   "cell_type": "code",
   "execution_count": 25,
   "metadata": {},
   "outputs": [
    {
     "name": "stderr",
     "output_type": "stream",
     "text": [
      "<ipython-input-25-bb090d092066>:1: DeprecationWarning: find_elements_by_* commands are deprecated. Please use find_elements() instead\n",
      "  int(driver.find_elements_by_css_selector('span[class=\"gl-body gl-body--s gl-no-margin-bottom\"]')[1].text[-1])\n"
     ]
    },
    {
     "data": {
      "text/plain": [
       "9"
      ]
     },
     "execution_count": 25,
     "metadata": {},
     "output_type": "execute_result"
    }
   ],
   "source": [
    "int(driver.find_elements_by_css_selector('span[class=\"gl-body gl-body--s gl-no-margin-bottom\"]')[1].text[-1])"
   ]
  },
  {
   "cell_type": "code",
   "execution_count": null,
   "metadata": {},
   "outputs": [],
   "source": []
  },
  {
   "cell_type": "code",
   "execution_count": null,
   "metadata": {},
   "outputs": [],
   "source": [
    "website_name = driver.find_elements_by_css_selector('a[class=\"gl-link\"]')[-1].get_attribute(\"href\")\n",
    "website_name"
   ]
  },
  {
   "cell_type": "code",
   "execution_count": null,
   "metadata": {},
   "outputs": [],
   "source": [
    "subcategory = driver.find_element_by_css_selector('h1[class=\"heading___1_p74\"]').text\n",
    "subcategory"
   ]
  },
  {
   "cell_type": "code",
   "execution_count": null,
   "metadata": {},
   "outputs": [],
   "source": [
    "products = driver.find_elements_by_css_selector('div[class=\"grid-item___3rAkS content-visibility-auto\"]')\n",
    "len(products)"
   ]
  },
  {
   "cell_type": "code",
   "execution_count": null,
   "metadata": {},
   "outputs": [],
   "source": [
    "products[5].find_element_by_css_selector('a[class=\"gl-product-card__assets-link\"]').get_attribute(\"href\")"
   ]
  },
  {
   "cell_type": "code",
   "execution_count": null,
   "metadata": {},
   "outputs": [],
   "source": [
    "products_links = []\n",
    "for product in products:\n",
    "    link = product.find_element_by_css_selector('a[class=\"gl-product-card__assets-link\"]').get_attribute(\"href\")\n",
    "    products_links.append(link)\n",
    "\n",
    "len(products_links)"
   ]
  },
  {
   "cell_type": "code",
   "execution_count": null,
   "metadata": {},
   "outputs": [],
   "source": [
    "products_links"
   ]
  },
  {
   "cell_type": "code",
   "execution_count": null,
   "metadata": {},
   "outputs": [],
   "source": [
    "driver.get(products_links[0])"
   ]
  },
  {
   "cell_type": "code",
   "execution_count": null,
   "metadata": {},
   "outputs": [],
   "source": [
    "s = driver.find_elements_by_css_selector('h1[class=\"gl-heading gl-heading--regular gl-heading--italic name___1EbZs\"]')\n",
    "s[1].text"
   ]
  },
  {
   "cell_type": "code",
   "execution_count": null,
   "metadata": {},
   "outputs": [],
   "source": [
    "s = driver.find_elements_by_css_selector('div[class=\"gl-price-item notranslate\"]')\n",
    "s[-1].text"
   ]
  },
  {
   "cell_type": "code",
   "execution_count": null,
   "metadata": {},
   "outputs": [],
   "source": [
    "description = driver.find_element_by_css_selector('div[class=\"text-content___1EWJO\"]')\\\n",
    "       .find_element_by_tag_name('p').text\n",
    "description"
   ]
  },
  {
   "cell_type": "code",
   "execution_count": 110,
   "metadata": {},
   "outputs": [
    {
     "name": "stderr",
     "output_type": "stream",
     "text": [
      "<ipython-input-110-d131481a43ad>:2: DeprecationWarning: find_elements_by_* commands are deprecated. Please use find_elements() instead\n",
      "  sizes = driver.find_elements_by_css_selector('button[class=\"gl-label size___TqqSo\"]')\n"
     ]
    },
    {
     "data": {
      "text/plain": [
       "'5,6,7,7.5,8,8.5,9,9.5,10,10.5,11,11.5,12,12.5,13,14'"
      ]
     },
     "execution_count": 110,
     "metadata": {},
     "output_type": "execute_result"
    }
   ],
   "source": [
    "product_sizes = []\n",
    "sizes = driver.find_elements_by_css_selector('button[class=\"gl-label size___TqqSo\"]')\n",
    "for size in sizes:\n",
    "    product_sizes.append(size.text)\n",
    "\n",
    "product_size = \",\".join(product_sizes)\n",
    "product_size"
   ]
  },
  {
   "cell_type": "code",
   "execution_count": 112,
   "metadata": {},
   "outputs": [
    {
     "name": "stderr",
     "output_type": "stream",
     "text": [
      "<ipython-input-112-a8dbcdc60bc7>:1: DeprecationWarning: find_element_by_* commands are deprecated. Please use find_element() instead\n",
      "  colors = driver.find_element_by_css_selector('h5[class=\"gl-label gl-label--s color-desktop___sl3Rb\"]').text\n"
     ]
    },
    {
     "data": {
      "text/plain": [
       "'Core Black / Cloud White / Blue'"
      ]
     },
     "execution_count": 112,
     "metadata": {},
     "output_type": "execute_result"
    }
   ],
   "source": [
    "colors = driver.find_element_by_css_selector('h5[class=\"gl-label gl-label--s color-desktop___sl3Rb\"]').text\n",
    "colors"
   ]
  },
  {
   "cell_type": "code",
   "execution_count": 120,
   "metadata": {},
   "outputs": [
    {
     "name": "stderr",
     "output_type": "stream",
     "text": [
      "<ipython-input-120-31a10733492e>:1: DeprecationWarning: find_elements_by_* commands are deprecated. Please use find_elements() instead\n",
      "  len(driver.find_elements_by_css_selector('div[class=\"view___CgbJj\"]'))\n"
     ]
    },
    {
     "data": {
      "text/plain": [
       "11"
      ]
     },
     "execution_count": 120,
     "metadata": {},
     "output_type": "execute_result"
    }
   ],
   "source": [
    "len(driver.find_elements_by_css_selector('div[class=\"view___CgbJj\"]'))"
   ]
  },
  {
   "cell_type": "code",
   "execution_count": 119,
   "metadata": {},
   "outputs": [
    {
     "name": "stderr",
     "output_type": "stream",
     "text": [
      "<ipython-input-119-82c0190daae0>:1: DeprecationWarning: find_elements_by_* commands are deprecated. Please use find_elements() instead\n",
      "  len(driver.find_elements_by_css_selector('div[class=\"content___1wmQY\"]'))\n"
     ]
    },
    {
     "data": {
      "text/plain": [
       "11"
      ]
     },
     "execution_count": 119,
     "metadata": {},
     "output_type": "execute_result"
    }
   ],
   "source": [
    "len(driver.find_elements_by_css_selector('div[class=\"content___1wmQY\"]'))"
   ]
  },
  {
   "cell_type": "code",
   "execution_count": 127,
   "metadata": {},
   "outputs": [
    {
     "name": "stderr",
     "output_type": "stream",
     "text": [
      "<ipython-input-127-823038b63cdc>:1: DeprecationWarning: find_element_by_* commands are deprecated. Please use find_element() instead\n",
      "  img_section = driver.find_element_by_css_selector('section[class=\"image-viewer___3hBak\"]')\n"
     ]
    },
    {
     "data": {
      "text/plain": [
       "<selenium.webdriver.remote.webelement.WebElement (session=\"9fc4b8164592629a4b0402616e2e1e66\", element=\"6ea9b022-ca0c-43b1-a79f-0b4fc2727346\")>"
      ]
     },
     "execution_count": 127,
     "metadata": {},
     "output_type": "execute_result"
    }
   ],
   "source": [
    "img_section = driver.find_element_by_css_selector('section[class=\"image-viewer___3hBak\"]')\n",
    "img_section"
   ]
  },
  {
   "cell_type": "code",
   "execution_count": 131,
   "metadata": {},
   "outputs": [
    {
     "ename": "TypeError",
     "evalue": "object of type 'WebElement' has no len()",
     "output_type": "error",
     "traceback": [
      "\u001b[1;31m---------------------------------------------------------------------------\u001b[0m",
      "\u001b[1;31mTypeError\u001b[0m                                 Traceback (most recent call last)",
      "\u001b[1;32m<ipython-input-131-41c1c148b92d>\u001b[0m in \u001b[0;36m<module>\u001b[1;34m\u001b[0m\n\u001b[0;32m      1\u001b[0m \u001b[0mimgs\u001b[0m \u001b[1;33m=\u001b[0m \u001b[0mimg_section\u001b[0m\u001b[1;33m.\u001b[0m\u001b[0mfind_element_by_css_selector\u001b[0m\u001b[1;33m(\u001b[0m\u001b[1;34m'div[class=\"image-viewer__view-list-container___WEl65\"]'\u001b[0m\u001b[1;33m)\u001b[0m\u001b[1;33m\u001b[0m\u001b[1;33m\u001b[0m\u001b[0m\n\u001b[1;32m----> 2\u001b[1;33m \u001b[0mlen\u001b[0m\u001b[1;33m(\u001b[0m\u001b[0mimgs\u001b[0m\u001b[1;33m)\u001b[0m\u001b[1;33m\u001b[0m\u001b[1;33m\u001b[0m\u001b[0m\n\u001b[0m",
      "\u001b[1;31mTypeError\u001b[0m: object of type 'WebElement' has no len()"
     ]
    }
   ],
   "source": [
    "imgs = img_section.find_element_by_css_selector('div[class=\"image-viewer__view-list-container___WEl65\"]')\n",
    "len(imgs)"
   ]
  },
  {
   "cell_type": "code",
   "execution_count": 135,
   "metadata": {},
   "outputs": [
    {
     "name": "stderr",
     "output_type": "stream",
     "text": [
      "<ipython-input-135-2e6b53c19f8a>:1: DeprecationWarning: find_elements_by_* commands are deprecated. Please use find_elements() instead\n",
      "  img_divs = driver.find_elements_by_css_selector('div[class=\"view___CgbJj\"]')\n"
     ]
    },
    {
     "data": {
      "text/plain": [
       "11"
      ]
     },
     "execution_count": 135,
     "metadata": {},
     "output_type": "execute_result"
    }
   ],
   "source": [
    "img_divs = driver.find_elements_by_css_selector('div[class=\"view___CgbJj\"]')\n",
    "len(img_divs)"
   ]
  },
  {
   "cell_type": "code",
   "execution_count": 140,
   "metadata": {},
   "outputs": [
    {
     "data": {
      "text/plain": [
       "11"
      ]
     },
     "execution_count": 140,
     "metadata": {},
     "output_type": "execute_result"
    }
   ],
   "source": [
    "img_links = []\n",
    "for img in img_divs:\n",
    "    img_link = img.find_element_by_tag_name(\"img\").get_attribute(\"src\")\n",
    "    img_links.append(img_link)\n",
    "    \n",
    "len(img_links)"
   ]
  },
  {
   "cell_type": "code",
   "execution_count": 123,
   "metadata": {},
   "outputs": [
    {
     "name": "stderr",
     "output_type": "stream",
     "text": [
      "<ipython-input-123-5d3d3ef8c5c7>:1: DeprecationWarning: find_elements_by_* commands are deprecated. Please use find_elements() instead\n",
      "  len(driver.find_elements_by_tag_name(\"img\"))\n"
     ]
    },
    {
     "data": {
      "text/plain": [
       "68"
      ]
     },
     "execution_count": 123,
     "metadata": {},
     "output_type": "execute_result"
    }
   ],
   "source": [
    "len(driver.find_elements_by_tag_name(\"img\"))"
   ]
  },
  {
   "cell_type": "code",
   "execution_count": 159,
   "metadata": {},
   "outputs": [
    {
     "data": {
      "text/plain": [
       "'https://assets.adidas.com/images/w_600,f_auto,q_auto/ef4d90b5c5df47acb2cbad2600d3d68a_9366/Superstar_OT_Tech_Shoes_Black_GV7572_42_detail.jpg\\nhttps://assets.adidas.com/images/w_600,f_auto,q_auto/a336de129ba14da29149ad2600d3a5ed_9366/Superstar_OT_Tech_Shoes_Black_GV7572_01_standard.jpg\\nhttps://assets.adidas.com/images/w_600,f_auto,q_auto/b0a6100cb02a4cd8937dad2600d3b36a_9366/Superstar_OT_Tech_Shoes_Black_GV7572_02_standard_hover.jpg\\nhttps://assets.adidas.com/images/w_600,f_auto,q_auto/a5f562e993584adbaa0bad2600d3bd0e_9366/Superstar_OT_Tech_Shoes_Black_GV7572_03_standard.jpg\\nhttps://assets.adidas.com/images/w_600,f_auto,q_auto/a195e0b02249403c8d81ad2600d3c2c6_9366/Superstar_OT_Tech_Shoes_Black_GV7572_04_standard.jpg\\nhttps://assets.adidas.com/images/w_600,f_auto,q_auto/5a402379c3e94bd7b7bdad2600d3c981_9366/Superstar_OT_Tech_Shoes_Black_GV7572_05_standard.jpg\\nhttps://assets.adidas.com/images/w_600,f_auto,q_auto/5c25384aa5944f9a9fe7ad2600d3adee_9366/Superstar_OT_Tech_Shoes_Black_GV7572_06_standard.jpg\\nhttps://assets.adidas.com/images/w_600,f_auto,q_auto/e90c1c87126c4ea08bd8ad26010e3a09_9366/Superstar_OT_Tech_Shoes_Black_GV7572_09_standard.jpg\\nhttps://assets.adidas.com/images/w_600,f_auto,q_auto/d18fbbecb7f849b8ae98ad2600d3d00b_9366/Superstar_OT_Tech_Shoes_Black_GV7572_41_detail.jpg\\nhttps://assets.adidas.com/images/w_600,f_auto,q_auto/ef4d90b5c5df47acb2cbad2600d3d68a_9366/Superstar_OT_Tech_Shoes_Black_GV7572_42_detail.jpg\\nhttps://assets.adidas.com/images/w_600,f_auto,q_auto/a336de129ba14da29149ad2600d3a5ed_9366/Superstar_OT_Tech_Shoes_Black_GV7572_01_standard.jpg'"
      ]
     },
     "execution_count": 159,
     "metadata": {},
     "output_type": "execute_result"
    }
   ],
   "source": [
    "'\\n'.join(img_links)"
   ]
  },
  {
   "cell_type": "code",
   "execution_count": null,
   "metadata": {},
   "outputs": [],
   "source": []
  }
 ],
 "metadata": {
  "kernelspec": {
   "display_name": "Python 3",
   "language": "python",
   "name": "python3"
  }
 },
 "nbformat": 4,
 "nbformat_minor": 4
}
