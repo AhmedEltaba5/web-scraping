{
 "cells": [
  {
   "attachments": {},
   "cell_type": "markdown",
   "metadata": {},
   "source": [
    "# Udacity Courses Web Scraping\n",
    "\n",
    "In this notebook I will try to extract all the courses information in the [Udacity Webiste](https://www.udacity.com)\n",
    "\n",
    "![image.png](images/image.png)"
   ]
  },
  {
   "cell_type": "markdown",
   "metadata": {},
   "source": [
    "### Import nessecary libraries for extraction\n",
    "\n",
    "we will use:\n",
    "+ `requests` library to get the html tegs of the site\n",
    "+ `BeautifulSoup` from `bs4` library to extract useful information from the tags\n",
    "+ `pandas` and `numpy` to make the DataFrame of all courses"
   ]
  },
  {
   "cell_type": "code",
   "execution_count": 2,
   "metadata": {},
   "outputs": [],
   "source": [
    "from bs4 import BeautifulSoup\n",
    "import requests\n",
    "import pandas as pd\n",
    "import numpy as np"
   ]
  },
  {
   "cell_type": "markdown",
   "metadata": {},
   "source": [
    "### Extract the HTML of the site"
   ]
  },
  {
   "cell_type": "code",
   "execution_count": 3,
   "metadata": {},
   "outputs": [],
   "source": [
    "req = requests.get('https://www.udacity.com/courses/all')"
   ]
  },
  {
   "cell_type": "code",
   "execution_count": 11,
   "metadata": {},
   "outputs": [],
   "source": [
    "html_soup = BeautifulSoup(req.content, 'html.parser')"
   ]
  },
  {
   "cell_type": "markdown",
   "metadata": {},
   "source": [
    "#### Extract all the courses' cards to get our needed information"
   ]
  },
  {
   "cell_type": "code",
   "execution_count": 42,
   "metadata": {},
   "outputs": [],
   "source": [
    "all_cards = html_soup.find_all('div', class_='card-content')"
   ]
  },
  {
   "cell_type": "markdown",
   "metadata": {},
   "source": [
    "#### Get every needed piece of information from that card"
   ]
  },
  {
   "cell_type": "code",
   "execution_count": 67,
   "metadata": {},
   "outputs": [],
   "source": [
    "courses_links = []\n",
    "courses_name = []\n",
    "courses_level = []\n",
    "courses_school = []\n",
    "courses_skills = []\n",
    "\n",
    "for card in all_cards:\n",
    "    # Add Title and Link\n",
    "    a_title = card.find('a', class_='capitalize')\n",
    "    courses_links.append('https://www.udacity.com' + a_title['href'])\n",
    "    courses_name.append(a_title.text.strip())\n",
    "    # Add skill\n",
    "    try:\n",
    "        skill = card.find('span', class_='truncate-content').text.strip()\n",
    "        courses_skills.append(skill)\n",
    "    except:\n",
    "        courses_skills.append(np.nan)\n",
    "    # Add Level\n",
    "    try:\n",
    "        level = card.find('span', class_='capitalize').text\n",
    "        courses_level.append(level)\n",
    "    except:\n",
    "        courses_level.append(np.nan)\n",
    "    # Add School\n",
    "    try:\n",
    "        school = card.find('h4', class_='category ng-star-inserted').text.strip()\n",
    "        courses_school.append(school)\n",
    "    except:\n",
    "        courses_school.append(np.nan)"
   ]
  },
  {
   "cell_type": "markdown",
   "metadata": {},
   "source": [
    "#### Import the infos got into a dataframe for further manipulation\n",
    "We will have in this initial dataframe 5 columns:\n",
    "1. Course Name\n",
    "2. Course Link\n",
    "3. Course School\n",
    "4. Course Skills\n",
    "5. Course Level"
   ]
  },
  {
   "cell_type": "code",
   "execution_count": 68,
   "metadata": {},
   "outputs": [
    {
     "data": {
      "text/html": [
       "<div>\n",
       "<style scoped>\n",
       "    .dataframe tbody tr th:only-of-type {\n",
       "        vertical-align: middle;\n",
       "    }\n",
       "\n",
       "    .dataframe tbody tr th {\n",
       "        vertical-align: top;\n",
       "    }\n",
       "\n",
       "    .dataframe thead th {\n",
       "        text-align: right;\n",
       "    }\n",
       "</style>\n",
       "<table border=\"1\" class=\"dataframe\">\n",
       "  <thead>\n",
       "    <tr style=\"text-align: right;\">\n",
       "      <th></th>\n",
       "      <th>Course Name</th>\n",
       "      <th>Course Link</th>\n",
       "      <th>Course School</th>\n",
       "      <th>Course Skills</th>\n",
       "      <th>Course Level</th>\n",
       "    </tr>\n",
       "  </thead>\n",
       "  <tbody>\n",
       "    <tr>\n",
       "      <th>0</th>\n",
       "      <td>Establishing Data Infrastructure</td>\n",
       "      <td>https://www.udacity.com/course/establishing-da...</td>\n",
       "      <td>School of Business</td>\n",
       "      <td>Data Pipelines, Data Consumers, Data Producers...</td>\n",
       "      <td>intermediate</td>\n",
       "    </tr>\n",
       "    <tr>\n",
       "      <th>1</th>\n",
       "      <td>Intermediate JavaScript</td>\n",
       "      <td>https://www.udacity.com/course/intermediate-ja...</td>\n",
       "      <td>School of Programming</td>\n",
       "      <td>Functional Programming, DOM, Data Structures, ...</td>\n",
       "      <td>intermediate</td>\n",
       "    </tr>\n",
       "    <tr>\n",
       "      <th>2</th>\n",
       "      <td>Monetization Strategy</td>\n",
       "      <td>https://www.udacity.com/course/monetization-st...</td>\n",
       "      <td>School of Business</td>\n",
       "      <td>Product Management, Monetization Models, Prici...</td>\n",
       "      <td>intermediate</td>\n",
       "    </tr>\n",
       "    <tr>\n",
       "      <th>3</th>\n",
       "      <td>Applying Data Science to Product Management</td>\n",
       "      <td>https://www.udacity.com/course/applying-data-s...</td>\n",
       "      <td>School of Business</td>\n",
       "      <td>Data Science, Product Management, Data Visuali...</td>\n",
       "      <td>intermediate</td>\n",
       "    </tr>\n",
       "    <tr>\n",
       "      <th>4</th>\n",
       "      <td>Data Product Manager</td>\n",
       "      <td>https://www.udacity.com/course/data-product-ma...</td>\n",
       "      <td>School of Business</td>\n",
       "      <td>Data Science, Product Management, Product Desi...</td>\n",
       "      <td>intermediate</td>\n",
       "    </tr>\n",
       "  </tbody>\n",
       "</table>\n",
       "</div>"
      ],
      "text/plain": [
       "                                   Course Name  \\\n",
       "0             Establishing Data Infrastructure   \n",
       "1                      Intermediate JavaScript   \n",
       "2                        Monetization Strategy   \n",
       "3  Applying Data Science to Product Management   \n",
       "4                         Data Product Manager   \n",
       "\n",
       "                                         Course Link          Course School  \\\n",
       "0  https://www.udacity.com/course/establishing-da...     School of Business   \n",
       "1  https://www.udacity.com/course/intermediate-ja...  School of Programming   \n",
       "2  https://www.udacity.com/course/monetization-st...     School of Business   \n",
       "3  https://www.udacity.com/course/applying-data-s...     School of Business   \n",
       "4  https://www.udacity.com/course/data-product-ma...     School of Business   \n",
       "\n",
       "                                       Course Skills  Course Level  \n",
       "0  Data Pipelines, Data Consumers, Data Producers...  intermediate  \n",
       "1  Functional Programming, DOM, Data Structures, ...  intermediate  \n",
       "2  Product Management, Monetization Models, Prici...  intermediate  \n",
       "3  Data Science, Product Management, Data Visuali...  intermediate  \n",
       "4  Data Science, Product Management, Product Desi...  intermediate  "
      ]
     },
     "execution_count": 68,
     "metadata": {},
     "output_type": "execute_result"
    }
   ],
   "source": [
    "df = pd.DataFrame({'Course Name': courses_name, 'Course Link': courses_links,\\\n",
    "              'Course School': courses_school, 'Course Skills': courses_skills, 'Course Level': courses_level})\n",
    "df.head()"
   ]
  },
  {
   "cell_type": "markdown",
   "metadata": {},
   "source": [
    "## Extract Additional Information\n",
    "Here we will enter in every course website to extract additional information about them"
   ]
  },
  {
   "cell_type": "code",
   "execution_count": 397,
   "metadata": {},
   "outputs": [],
   "source": [
    "types = []\n",
    "costs = []\n",
    "times = []\n",
    "instructors = []\n",
    "\n",
    "for link in df['Course Link']:\n",
    "    page_req = requests.get(link)\n",
    "    page_soup = BeautifulSoup(page_req.content, 'html.parser')\n",
    "    ###################################################################\n",
    "    ### There is 3 main types of those courses (Free - Single - Paid) #\n",
    "    ### So we try to get the ideal extraction method for every course #\n",
    "    ###################################################################\n",
    "    try:\n",
    "        type_ = page_soup.find('h6', class_='hero__course--type bar--bottom bar--green').text\n",
    "        types.append(type_)\n",
    "        costs.append('Free')\n",
    "        \n",
    "        timeline = page_soup.find_all('div', class_='col')[1].find('h5').text[7:].strip()\n",
    "        times.append(timeline)\n",
    "        try:\n",
    "            instructors_names = page_soup.find('div', class_='instructors__list').find_all('h3', class_='h5 instructor--name')\n",
    "            instructors.append(', '.join([_.text.strip() for _ in instructors_names]))\n",
    "        except:\n",
    "            instructors.append(np.nan)\n",
    "        \n",
    "    except:\n",
    "        try:\n",
    "            type_ = page_soup.find('h6', class_='hero__label').text\n",
    "            types.append(type_)\n",
    "            costs.append('Free')\n",
    "            \n",
    "            timeline = page_soup.find('div', class_='details__overview__item ng-star-inserted').text[17:].strip()\n",
    "            times.append(timeline)\n",
    "            \n",
    "            try:\n",
    "                instructors_names = page_soup.find_all('div', class_='leads__instructor ng-star-inserted')\n",
    "                instructors.append(', '.join([_.text[:-12].strip() for _ in instructors_names]))\n",
    "            except:\n",
    "                instructors.append(np.nan)\n",
    "            \n",
    "        except:\n",
    "            type_ = page_soup.find('div', class_='content__header').find('h6').text\n",
    "            types.append(type_)\n",
    "            costs.append(np.nan)\n",
    "            \n",
    "            timeline = page_soup.find('ul', class_='column-list').find('li').find('h5').text\n",
    "            times.append(timeline)\n",
    "            \n",
    "            instructors_names = page_soup.find_all('h5', class_='instructor__name')\n",
    "            instructors.append(', '.join([_.text.strip() for _ in instructors_names]))\n"
   ]
  },
  {
   "cell_type": "markdown",
   "metadata": {},
   "source": [
    "Merging the new dataframe with the first one"
   ]
  },
  {
   "cell_type": "code",
   "execution_count": 399,
   "metadata": {},
   "outputs": [
    {
     "data": {
      "text/html": [
       "<div>\n",
       "<style scoped>\n",
       "    .dataframe tbody tr th:only-of-type {\n",
       "        vertical-align: middle;\n",
       "    }\n",
       "\n",
       "    .dataframe tbody tr th {\n",
       "        vertical-align: top;\n",
       "    }\n",
       "\n",
       "    .dataframe thead th {\n",
       "        text-align: right;\n",
       "    }\n",
       "</style>\n",
       "<table border=\"1\" class=\"dataframe\">\n",
       "  <thead>\n",
       "    <tr style=\"text-align: right;\">\n",
       "      <th></th>\n",
       "      <th>Course Name</th>\n",
       "      <th>Course Link</th>\n",
       "      <th>Course School</th>\n",
       "      <th>Course Skills</th>\n",
       "      <th>Course Level</th>\n",
       "      <th>Course Type</th>\n",
       "      <th>Course Cost</th>\n",
       "      <th>Course Lenght</th>\n",
       "      <th>Instructors</th>\n",
       "    </tr>\n",
       "  </thead>\n",
       "  <tbody>\n",
       "    <tr>\n",
       "      <th>0</th>\n",
       "      <td>Establishing Data Infrastructure</td>\n",
       "      <td>https://www.udacity.com/course/establishing-da...</td>\n",
       "      <td>School of Business</td>\n",
       "      <td>Data Pipelines, Data Consumers, Data Producers...</td>\n",
       "      <td>intermediate</td>\n",
       "      <td>COURSE TWO OF THREE</td>\n",
       "      <td>NaN</td>\n",
       "      <td>1 Month</td>\n",
       "      <td>Vaishali Agarwal</td>\n",
       "    </tr>\n",
       "    <tr>\n",
       "      <th>1</th>\n",
       "      <td>Intermediate JavaScript</td>\n",
       "      <td>https://www.udacity.com/course/intermediate-ja...</td>\n",
       "      <td>School of Programming</td>\n",
       "      <td>Functional Programming, DOM, Data Structures, ...</td>\n",
       "      <td>intermediate</td>\n",
       "      <td>Nanodegree Program</td>\n",
       "      <td>NaN</td>\n",
       "      <td>3 months</td>\n",
       "      <td>Alyssa Hope, Rachel Manning, Andrew Wong, Rich...</td>\n",
       "    </tr>\n",
       "    <tr>\n",
       "      <th>2</th>\n",
       "      <td>Monetization Strategy</td>\n",
       "      <td>https://www.udacity.com/course/monetization-st...</td>\n",
       "      <td>School of Business</td>\n",
       "      <td>Product Management, Monetization Models, Prici...</td>\n",
       "      <td>intermediate</td>\n",
       "      <td>COURSE THREE OF THREE</td>\n",
       "      <td>NaN</td>\n",
       "      <td>1 Month</td>\n",
       "      <td>Rizwan Ansary</td>\n",
       "    </tr>\n",
       "    <tr>\n",
       "      <th>3</th>\n",
       "      <td>Applying Data Science to Product Management</td>\n",
       "      <td>https://www.udacity.com/course/applying-data-s...</td>\n",
       "      <td>School of Business</td>\n",
       "      <td>Data Science, Product Management, Data Visuali...</td>\n",
       "      <td>intermediate</td>\n",
       "      <td>COURSE ONE OF THREE</td>\n",
       "      <td>NaN</td>\n",
       "      <td>1 Month</td>\n",
       "      <td>JJ Miclat</td>\n",
       "    </tr>\n",
       "    <tr>\n",
       "      <th>4</th>\n",
       "      <td>Data Product Manager</td>\n",
       "      <td>https://www.udacity.com/course/data-product-ma...</td>\n",
       "      <td>School of Business</td>\n",
       "      <td>Data Science, Product Management, Product Desi...</td>\n",
       "      <td>intermediate</td>\n",
       "      <td>Nanodegree Program</td>\n",
       "      <td>NaN</td>\n",
       "      <td>3 Months</td>\n",
       "      <td>JJ Miclat, Vaishali Agarwal, Anne Rynearson</td>\n",
       "    </tr>\n",
       "  </tbody>\n",
       "</table>\n",
       "</div>"
      ],
      "text/plain": [
       "                                   Course Name  \\\n",
       "0             Establishing Data Infrastructure   \n",
       "1                      Intermediate JavaScript   \n",
       "2                        Monetization Strategy   \n",
       "3  Applying Data Science to Product Management   \n",
       "4                         Data Product Manager   \n",
       "\n",
       "                                         Course Link          Course School  \\\n",
       "0  https://www.udacity.com/course/establishing-da...     School of Business   \n",
       "1  https://www.udacity.com/course/intermediate-ja...  School of Programming   \n",
       "2  https://www.udacity.com/course/monetization-st...     School of Business   \n",
       "3  https://www.udacity.com/course/applying-data-s...     School of Business   \n",
       "4  https://www.udacity.com/course/data-product-ma...     School of Business   \n",
       "\n",
       "                                       Course Skills  Course Level  \\\n",
       "0  Data Pipelines, Data Consumers, Data Producers...  intermediate   \n",
       "1  Functional Programming, DOM, Data Structures, ...  intermediate   \n",
       "2  Product Management, Monetization Models, Prici...  intermediate   \n",
       "3  Data Science, Product Management, Data Visuali...  intermediate   \n",
       "4  Data Science, Product Management, Product Desi...  intermediate   \n",
       "\n",
       "             Course Type Course Cost Course Lenght  \\\n",
       "0    COURSE TWO OF THREE         NaN       1 Month   \n",
       "1     Nanodegree Program         NaN      3 months   \n",
       "2  COURSE THREE OF THREE         NaN       1 Month   \n",
       "3    COURSE ONE OF THREE         NaN       1 Month   \n",
       "4     Nanodegree Program         NaN      3 Months   \n",
       "\n",
       "                                         Instructors  \n",
       "0                                   Vaishali Agarwal  \n",
       "1  Alyssa Hope, Rachel Manning, Andrew Wong, Rich...  \n",
       "2                                      Rizwan Ansary  \n",
       "3                                          JJ Miclat  \n",
       "4        JJ Miclat, Vaishali Agarwal, Anne Rynearson  "
      ]
     },
     "execution_count": 399,
     "metadata": {},
     "output_type": "execute_result"
    }
   ],
   "source": [
    "df2 = pd.DataFrame({'Course Type': types, 'Course Cost': costs, 'Course Lenght': times, 'Instructors': instructors})\n",
    "df = pd.concat([df, df2], axis=1)\n",
    "df.head()"
   ]
  },
  {
   "cell_type": "code",
   "execution_count": 414,
   "metadata": {},
   "outputs": [],
   "source": [
    "# Save the dataframe in a csv file\n",
    "df.to_csv('courses.csv')"
   ]
  },
  {
   "cell_type": "markdown",
   "metadata": {},
   "source": [
    "# Counclusion\n",
    "\n",
    "Now we have the entire database of Udacity's courses with their description in a csv file\n"
   ]
  },
  {
   "cell_type": "code",
   "execution_count": null,
   "metadata": {},
   "outputs": [],
   "source": []
  }
 ],
 "metadata": {
  "kernelspec": {
   "display_name": "Python 3",
   "language": "python",
   "name": "python3"
  },
  "language_info": {
   "codemirror_mode": {
    "name": "ipython",
    "version": 3
   },
   "file_extension": ".py",
   "mimetype": "text/x-python",
   "name": "python",
   "nbconvert_exporter": "python",
   "pygments_lexer": "ipython3",
   "version": "3.7.6"
  }
 },
 "nbformat": 4,
 "nbformat_minor": 4
}
