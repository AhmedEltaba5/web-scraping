{
 "cells": [
  {
   "cell_type": "code",
   "execution_count": 1,
   "metadata": {},
   "outputs": [
    {
     "name": "stderr",
     "output_type": "stream",
     "text": [
      "<ipython-input-1-00bac8db3895>:19: DeprecationWarning: executable_path has been deprecated, please pass in a Service object\n",
      "  driver = webdriver.Chrome(executable_path='C:\\chromedriver_win32\\chromedriver.exe', options=chrome_options)\n",
      "C:\\Users\\ahmed eltabakh\\anaconda3\\lib\\site-packages\\selenium\\webdriver\\remote\\webdriver.py:483: UserWarning: find_element_by_* commands are deprecated. Please use find_element() instead\n",
      "  warnings.warn(\"find_element_by_* commands are deprecated. Please use find_element() instead\")\n"
     ]
    },
    {
     "name": "stdout",
     "output_type": "stream",
     "text": [
      "========================================\n",
      "{'ELEMENT': '0.27818197024702407-1'}\n",
      "=========================================\n"
     ]
    }
   ],
   "source": [
    "from selenium import webdriver\n",
    "import time as t\n",
    "#from selenium.webdriver.common.keys import keys\n",
    "#from selenium.webdriver.common.by import By\n",
    "import urllib\n",
    "#import cv2\n",
    "\n",
    "try:\n",
    "    os.mkdir('dataset_download')\n",
    "except:\n",
    "    pass\n",
    "\n",
    "name = 'lion'\n",
    "\n",
    "chrome_options = webdriver.ChromeOptions()\n",
    "\n",
    "chrome_options.add_experimental_option('excludeSwitches', ['enable-automation'])\n",
    "\n",
    "driver = webdriver.Chrome(executable_path='C:\\chromedriver_win32\\chromedriver.exe', options=chrome_options)\n",
    "\n",
    "#strr = 'https://www.google.com/search?q=lion&lr=lang_ar&hl=ar&tbs=lr:lang_1ar&sxsrf=AOaemvLwEkey1-RIqWwE9NEMyufp0og2Xw:1631460082268&source=lnms&tbm=isch&sa=X&ved=2ahUKEwix_au13vnyAhVshf0HHXnyCUUQ_AUoAXoECAEQAw&biw=1366&bih=625'\n",
    "strr = 'https://sturents.com/student-accommodation/Cardiff/Cardiff'\n",
    "driver.get(strr)\n",
    "t.sleep(3)\n",
    "# //*[@id=\"islrg\"]/div[1]/div[1]/a[1]/div[1]/img\n",
    "# pics = driver.find_element_by_xpath('//*[@id=\"islrg\"]/div[1]')\n",
    "# pics_ = pics.find_elements_by_xpath('./*')\n",
    "# img_link = pic.find_element_by_xpath('a[1]/div[1]/img').get_attribute('src')\n",
    "\n",
    "# //*[@id=\"root\"]/div/div/div[3]/div[2]/div[3]/a\n",
    "pics = driver.find_element_by_xpath('//*[@id=\"root\"]/div')\n",
    "pics_ = pics.find_elements_by_xpath('./*')\n",
    "\n",
    "for pic in pics_:\n",
    "    img_link = pic.find_element_by_xpath('/a').get_attribute('href')\n",
    "    print(\"==========================\")\n",
    "    print(img_link)\n",
    "\n",
    "print(\"========================================\")\n",
    "print(pics)\n",
    "print(\"=========================================\")\n",
    "\n",
    "links = []\n",
    "x=1\n",
    "last_height = 0\n",
    "    \n",
    "driver.close()"
   ]
  },
  {
   "cell_type": "code",
   "execution_count": null,
   "metadata": {},
   "outputs": [],
   "source": []
  }
 ],
 "metadata": {
  "kernelspec": {
   "display_name": "Python 3",
   "language": "python",
   "name": "python3"
  },
  "language_info": {
   "codemirror_mode": {
    "name": "ipython",
    "version": 3
   },
   "file_extension": ".py",
   "mimetype": "text/x-python",
   "name": "python",
   "nbconvert_exporter": "python",
   "pygments_lexer": "ipython3",
   "version": "3.8.5"
  }
 },
 "nbformat": 4,
 "nbformat_minor": 4
}
